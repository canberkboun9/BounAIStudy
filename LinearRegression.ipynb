{
 "cells": [
  {
   "cell_type": "markdown",
   "metadata": {
    "id": "r79-WpxPbR9j"
   },
   "source": [
    "# Intro to Linear Regression\n",
    "## BogaziciAI\n",
    "\n",
    "Linear regression is the process of modelling a linear relationship between variables."
   ]
  },
  {
   "cell_type": "markdown",
   "metadata": {
    "id": "Oxy799JKbR9k"
   },
   "source": [
    "In order to understand it clearly, we can define a custom dataset, that includes a linear relationship between 2 variables.\n",
    "Let's assume that our dataset is linearly correlated as Y=AX+B ideally."
   ]
  },
  {
   "cell_type": "code",
   "execution_count": 1,
   "metadata": {},
   "outputs": [],
   "source": [
    "import warnings\n",
    "warnings.filterwarnings('ignore')"
   ]
  },
  {
   "cell_type": "code",
   "execution_count": 2,
   "metadata": {
    "executionInfo": {
     "elapsed": 1369,
     "status": "ok",
     "timestamp": 1624863835659,
     "user": {
      "displayName": "bogaziciAI Community",
      "photoUrl": "",
      "userId": "01551662724788664199"
     },
     "user_tz": -180
    },
    "id": "jD8FXGi4bR9l"
   },
   "outputs": [],
   "source": [
    "import numpy as np\n",
    "import matplotlib.pyplot as plt\n",
    "from sklearn import linear_model"
   ]
  },
  {
   "cell_type": "markdown",
   "metadata": {
    "id": "oLVp1RVAbR9l"
   },
   "source": [
    "First create a dataset that has disturbances."
   ]
  },
  {
   "cell_type": "code",
   "execution_count": 3,
   "metadata": {
    "colab": {
     "base_uri": "https://localhost:8080/",
     "height": 269
    },
    "executionInfo": {
     "elapsed": 8,
     "status": "ok",
     "timestamp": 1624863835663,
     "user": {
      "displayName": "bogaziciAI Community",
      "photoUrl": "",
      "userId": "01551662724788664199"
     },
     "user_tz": -180
    },
    "id": "0erJeSMSbR9m",
    "outputId": "8f0b30aa-e4cc-4037-eb99-ce0b56407b28"
   },
   "outputs": [
    {
     "data": {
      "image/png": "[encoded data removed]",
      "text/plain": [
       "<Figure size 432x288 with 1 Axes>"
      ]
     },
     "metadata": {
      "needs_background": "light"
     },
     "output_type": "display_data"
    }
   ],
   "source": [
    "A = 2\n",
    "B = -20\n",
    "x_range = [-20, 100]\n",
    "\n",
    "def load_dataset(n=150):\n",
    "  x = (x_range[1] - x_range[0]) * np.random.rand(n) + x_range[0] # 120*(0,1 Uniform) -20 -> array of length 150 = x (-20,100 U)\n",
    "  eps = np.random.normal(0,10,n) # normally distributed values 0 mean ,10 s.dev -> array of length 150 = eps (error array)\n",
    "  y = A * x  + B + eps # 2*x - 20 + eps -> array of length 150 = y =2x-20+error\n",
    "  return np.array(y).reshape(-1,1), np.array(x).reshape(-1,1) # 150 row 1 column\n",
    "\n",
    "y, x = load_dataset()\n",
    "\n",
    "plt.plot(x,y,'*')\n",
    "plt.show()\n"
   ]
  },
  {
   "cell_type": "markdown",
   "metadata": {
    "id": "xeqEGSM8bR9n"
   },
   "source": [
    "As data seem to be correlated linearly, (We already know that in this situation as it is created by us, but we need to inspect unkown datasets in order to choose an eligable method.) it is appropriate to apply linear regression."
   ]
  },
  {
   "cell_type": "code",
   "execution_count": 4,
   "metadata": {
    "colab": {
     "base_uri": "https://localhost:8080/",
     "height": 286
    },
    "executionInfo": {
     "elapsed": 370,
     "status": "ok",
     "timestamp": 1624863873272,
     "user": {
      "displayName": "bogaziciAI Community",
      "photoUrl": "",
      "userId": "01551662724788664199"
     },
     "user_tz": -180
    },
    "id": "fGnrz0PmbR9n",
    "outputId": "9c67c289-78dc-40dc-829c-88224ec532b7"
   },
   "outputs": [
    {
     "name": "stdout",
     "output_type": "stream",
     "text": [
      "A: 1.95\t\tB: -18.39\tR2: 0.982\n"
     ]
    },
    {
     "data": {
      "image/png": "[encoded data removed]",
      "text/plain": [
       "<Figure size 432x288 with 1 Axes>"
      ]
     },
     "metadata": {
      "needs_background": "light"
     },
     "output_type": "display_data"
    }
   ],
   "source": [
    "regression = linear_model.LinearRegression()\n",
    "regression = regression.fit(x,y)\n",
    "print(f\"A: {regression.coef_[0][0]:.2f}\\t\\tB: {regression.intercept_[0]:.2f}\\tR2: {regression.score(x,y):.3f}\")\n",
    "\n",
    "x_pred = np.array(x_range).reshape(-1,1)\n",
    "y_pred = regression.predict(x_pred)\n",
    "plt.plot(x_pred,y_pred,'r-',x,y,'*')\n",
    "plt.show()"
   ]
  },
  {
   "cell_type": "markdown",
   "metadata": {
    "id": "zkuwExtWbR9n"
   },
   "source": [
    "# <font color='green'>Load CVS file with PANDAS</font> "
   ]
  },
  {
   "cell_type": "markdown",
   "metadata": {
    "id": "en66MvAxbR9n"
   },
   "source": [
    "In this section, you are given weather data. You will use pandas dataframe to load csv file. Observe dataframe shape and by using .head(), investigate the content of the data."
   ]
  },
  {
   "cell_type": "code",
   "execution_count": 5,
   "metadata": {
    "colab": {
     "base_uri": "https://localhost:8080/",
     "height": 408
    },
    "executionInfo": {
     "elapsed": 25,
     "status": "error",
     "timestamp": 1624863836155,
     "user": {
      "displayName": "bogaziciAI Community",
      "photoUrl": "",
      "userId": "01551662724788664199"
     },
     "user_tz": -180
    },
    "id": "M_RQaBDtbR9o",
    "outputId": "6c5c4758-ae13-4d63-da0f-58d7c40b2508"
   },
   "outputs": [
    {
     "data": {
      "text/plain": [
       "(1999, 12)"
      ]
     },
     "execution_count": 5,
     "metadata": {},
     "output_type": "execute_result"
    }
   ],
   "source": [
    "import pandas as pd\n",
    "WeatherData=pd.read_csv('weatherHistory.csv')  \n",
    "WeatherData.shape"
   ]
  },
  {
   "cell_type": "code",
   "execution_count": 6,
   "metadata": {
    "executionInfo": {
     "elapsed": 11,
     "status": "aborted",
     "timestamp": 1624863836142,
     "user": {
      "displayName": "bogaziciAI Community",
      "photoUrl": "",
      "userId": "01551662724788664199"
     },
     "user_tz": -180
    },
    "id": "XqYQMS4NbR9o"
   },
   "outputs": [
    {
     "data": {
      "text/html": [
       "<div>\n",
       "<style scoped>\n",
       "    .dataframe tbody tr th:only-of-type {\n",
       "        vertical-align: middle;\n",
       "    }\n",
       "\n",
       "    .dataframe tbody tr th {\n",
       "        vertical-align: top;\n",
       "    }\n",
       "\n",
       "    .dataframe thead th {\n",
       "        text-align: right;\n",
       "    }\n",
       "</style>\n",
       "<table border=\"1\" class=\"dataframe\">\n",
       "  <thead>\n",
       "    <tr style=\"text-align: right;\">\n",
       "      <th></th>\n",
       "      <th>Formatted Date</th>\n",
       "      <th>Summary</th>\n",
       "      <th>Precip Type</th>\n",
       "      <th>Temperature</th>\n",
       "      <th>Apparent Temperature</th>\n",
       "      <th>Humidity</th>\n",
       "      <th>Wind Speed</th>\n",
       "      <th>Wind Bearing</th>\n",
       "      <th>Visibility</th>\n",
       "      <th>Loud Cover</th>\n",
       "      <th>Pressure</th>\n",
       "      <th>Daily Summary</th>\n",
       "    </tr>\n",
       "  </thead>\n",
       "  <tbody>\n",
       "    <tr>\n",
       "      <th>0</th>\n",
       "      <td>2006-04-01 00:00:00.000 +0200</td>\n",
       "      <td>Partly Cloudy</td>\n",
       "      <td>rain</td>\n",
       "      <td>9.472222</td>\n",
       "      <td>7.388889</td>\n",
       "      <td>0.89</td>\n",
       "      <td>14.1197</td>\n",
       "      <td>251</td>\n",
       "      <td>15.8263</td>\n",
       "      <td>0</td>\n",
       "      <td>1015.13</td>\n",
       "      <td>Partly cloudy throughout the day.</td>\n",
       "    </tr>\n",
       "    <tr>\n",
       "      <th>1</th>\n",
       "      <td>2006-04-01 01:00:00.000 +0200</td>\n",
       "      <td>Partly Cloudy</td>\n",
       "      <td>rain</td>\n",
       "      <td>9.355556</td>\n",
       "      <td>7.227778</td>\n",
       "      <td>0.86</td>\n",
       "      <td>14.2646</td>\n",
       "      <td>259</td>\n",
       "      <td>15.8263</td>\n",
       "      <td>0</td>\n",
       "      <td>1015.63</td>\n",
       "      <td>Partly cloudy throughout the day.</td>\n",
       "    </tr>\n",
       "    <tr>\n",
       "      <th>2</th>\n",
       "      <td>2006-04-01 02:00:00.000 +0200</td>\n",
       "      <td>Mostly Cloudy</td>\n",
       "      <td>rain</td>\n",
       "      <td>9.377778</td>\n",
       "      <td>9.377778</td>\n",
       "      <td>0.89</td>\n",
       "      <td>3.9284</td>\n",
       "      <td>204</td>\n",
       "      <td>14.9569</td>\n",
       "      <td>0</td>\n",
       "      <td>1015.94</td>\n",
       "      <td>Partly cloudy throughout the day.</td>\n",
       "    </tr>\n",
       "    <tr>\n",
       "      <th>3</th>\n",
       "      <td>2006-04-01 03:00:00.000 +0200</td>\n",
       "      <td>Partly Cloudy</td>\n",
       "      <td>rain</td>\n",
       "      <td>8.288889</td>\n",
       "      <td>5.944444</td>\n",
       "      <td>0.83</td>\n",
       "      <td>14.1036</td>\n",
       "      <td>269</td>\n",
       "      <td>15.8263</td>\n",
       "      <td>0</td>\n",
       "      <td>1016.41</td>\n",
       "      <td>Partly cloudy throughout the day.</td>\n",
       "    </tr>\n",
       "    <tr>\n",
       "      <th>4</th>\n",
       "      <td>2006-04-01 04:00:00.000 +0200</td>\n",
       "      <td>Mostly Cloudy</td>\n",
       "      <td>rain</td>\n",
       "      <td>8.755556</td>\n",
       "      <td>6.977778</td>\n",
       "      <td>0.83</td>\n",
       "      <td>11.0446</td>\n",
       "      <td>259</td>\n",
       "      <td>15.8263</td>\n",
       "      <td>0</td>\n",
       "      <td>1016.51</td>\n",
       "      <td>Partly cloudy throughout the day.</td>\n",
       "    </tr>\n",
       "  </tbody>\n",
       "</table>\n",
       "</div>"
      ],
      "text/plain": [
       "                  Formatted Date        Summary Precip Type  Temperature  \\\n",
       "0  2006-04-01 00:00:00.000 +0200  Partly Cloudy        rain     9.472222   \n",
       "1  2006-04-01 01:00:00.000 +0200  Partly Cloudy        rain     9.355556   \n",
       "2  2006-04-01 02:00:00.000 +0200  Mostly Cloudy        rain     9.377778   \n",
       "3  2006-04-01 03:00:00.000 +0200  Partly Cloudy        rain     8.288889   \n",
       "4  2006-04-01 04:00:00.000 +0200  Mostly Cloudy        rain     8.755556   \n",
       "\n",
       "   Apparent Temperature  Humidity  Wind Speed  Wind Bearing  Visibility  \\\n",
       "0              7.388889      0.89     14.1197           251     15.8263   \n",
       "1              7.227778      0.86     14.2646           259     15.8263   \n",
       "2              9.377778      0.89      3.9284           204     14.9569   \n",
       "3              5.944444      0.83     14.1036           269     15.8263   \n",
       "4              6.977778      0.83     11.0446           259     15.8263   \n",
       "\n",
       "   Loud Cover  Pressure                      Daily Summary  \n",
       "0           0   1015.13  Partly cloudy throughout the day.  \n",
       "1           0   1015.63  Partly cloudy throughout the day.  \n",
       "2           0   1015.94  Partly cloudy throughout the day.  \n",
       "3           0   1016.41  Partly cloudy throughout the day.  \n",
       "4           0   1016.51  Partly cloudy throughout the day.  "
      ]
     },
     "execution_count": 6,
     "metadata": {},
     "output_type": "execute_result"
    }
   ],
   "source": [
    "WeatherData.head()"
   ]
  },
  {
   "cell_type": "code",
   "execution_count": 7,
   "metadata": {
    "executionInfo": {
     "elapsed": 12,
     "status": "aborted",
     "timestamp": 1624863836143,
     "user": {
      "displayName": "bogaziciAI Community",
      "photoUrl": "",
      "userId": "01551662724788664199"
     },
     "user_tz": -180
    },
    "id": "TFUHEKLYbR9o"
   },
   "outputs": [
    {
     "name": "stdout",
     "output_type": "stream",
     "text": [
      "<class 'pandas.core.frame.DataFrame'>\n",
      "RangeIndex: 1999 entries, 0 to 1998\n",
      "Data columns (total 12 columns):\n",
      " #   Column                Non-Null Count  Dtype  \n",
      "---  ------                --------------  -----  \n",
      " 0   Formatted Date        1999 non-null   object \n",
      " 1   Summary               1999 non-null   object \n",
      " 2   Precip Type           1999 non-null   object \n",
      " 3   Temperature           1999 non-null   float64\n",
      " 4   Apparent Temperature  1999 non-null   float64\n",
      " 5   Humidity              1999 non-null   float64\n",
      " 6   Wind Speed            1999 non-null   float64\n",
      " 7   Wind Bearing          1999 non-null   int64  \n",
      " 8   Visibility            1999 non-null   float64\n",
      " 9   Loud Cover            1999 non-null   int64  \n",
      " 10  Pressure              1999 non-null   float64\n",
      " 11  Daily Summary         1999 non-null   object \n",
      "dtypes: float64(6), int64(2), object(4)\n",
      "memory usage: 187.5+ KB\n"
     ]
    }
   ],
   "source": [
    "WeatherData.info()"
   ]
  },
  {
   "cell_type": "code",
   "execution_count": 8,
   "metadata": {
    "executionInfo": {
     "elapsed": 13,
     "status": "aborted",
     "timestamp": 1624863836144,
     "user": {
      "displayName": "bogaziciAI Community",
      "photoUrl": "",
      "userId": "01551662724788664199"
     },
     "user_tz": -180
    },
    "id": "VGVgF0SRbR9o"
   },
   "outputs": [
    {
     "name": "stdout",
     "output_type": "stream",
     "text": [
      "<class 'pandas.core.series.Series'> <class 'pandas.core.series.Series'>\n"
     ]
    }
   ],
   "source": [
    "Temp=WeatherData.Temperature\n",
    "Hum=WeatherData.Humidity\n",
    "print(type(Temp),type(Hum))"
   ]
  },
  {
   "cell_type": "markdown",
   "metadata": {
    "id": "nDllmPf6bR9o"
   },
   "source": [
    "Data visualization is cruicial to understand the quality of the data. You need to observe inputs and outputs to form a hypothesis about possible correlations. Investigate matplotlib. "
   ]
  },
  {
   "cell_type": "code",
   "execution_count": 9,
   "metadata": {
    "executionInfo": {
     "elapsed": 13,
     "status": "aborted",
     "timestamp": 1624863836144,
     "user": {
      "displayName": "bogaziciAI Community",
      "photoUrl": "",
      "userId": "01551662724788664199"
     },
     "user_tz": -180
    },
    "id": "bpLjZrgRbR9o"
   },
   "outputs": [
    {
     "data": {
      "text/plain": [
       "[<matplotlib.lines.Line2D at 0x21afdaf5700>]"
      ]
     },
     "execution_count": 9,
     "metadata": {},
     "output_type": "execute_result"
    },
    {
     "data": {
      "image/png": "[encoded data removed]",
      "text/plain": [
       "<Figure size 432x288 with 2 Axes>"
      ]
     },
     "metadata": {
      "needs_background": "light"
     },
     "output_type": "display_data"
    }
   ],
   "source": [
    "import matplotlib.pyplot as plt\n",
    "\n",
    "\n",
    "fig = plt.figure()\n",
    "ax1 = fig.add_subplot(2, 1, 1) # two rows, one column, first plot\n",
    "ax1.set_ylabel('Temperature (C)')\n",
    "ax1.set_xlabel('1 hr intervals (h)')\n",
    "ax1.set_title(' Hourly Temperature-Humidity')\n",
    "ax1.plot(Temp[0:300])\n",
    "\n",
    "ax2 = fig.add_subplot(2, 1, 2) # two rows, one column, second plot\n",
    "ax2.set_ylabel('Humidity ')\n",
    "ax2.set_xlabel('1 hr intervals (h)')\n",
    "ax2.plot(Hum[0:300])\n"
   ]
  },
  {
   "cell_type": "markdown",
   "metadata": {
    "id": "cEsq7PU9bR9o"
   },
   "source": [
    "Lets scatterplot the same data to see different kinds of visualizations. "
   ]
  },
  {
   "cell_type": "code",
   "execution_count": 10,
   "metadata": {
    "executionInfo": {
     "elapsed": 13,
     "status": "aborted",
     "timestamp": 1624863836145,
     "user": {
      "displayName": "bogaziciAI Community",
      "photoUrl": "",
      "userId": "01551662724788664199"
     },
     "user_tz": -180
    },
    "id": "V8UHn4JrbR9p"
   },
   "outputs": [
    {
     "data": {
      "text/plain": [
       "Text(0, 0.5, 'Humidity (%)')"
      ]
     },
     "execution_count": 10,
     "metadata": {},
     "output_type": "execute_result"
    },
    {
     "data": {
      "image/png": "[encoded data removed]",
      "text/plain": [
       "<Figure size 432x288 with 1 Axes>"
      ]
     },
     "metadata": {
      "needs_background": "light"
     },
     "output_type": "display_data"
    }
   ],
   "source": [
    "fig = plt.figure()\n",
    "# Pres = WeatherData.Pressure\n",
    "plt.scatter(Temp[0:300],Hum[0:300])\n",
    "plt.xlabel('Temperature (C)')\n",
    "plt.ylabel('Humidity (%)')"
   ]
  },
  {
   "cell_type": "markdown",
   "metadata": {
    "id": "JzdRYicRbR9p"
   },
   "source": [
    "<font color='red'> Optional Exercise : </font> Use .scatter(Temp[0:300], WindSpeed[0:300], Hum[0:300]) to make a 3d plot including windspeed for the first 300 data points.  "
   ]
  },
  {
   "cell_type": "code",
   "execution_count": 11,
   "metadata": {
    "executionInfo": {
     "elapsed": 14,
     "status": "aborted",
     "timestamp": 1624863836146,
     "user": {
      "displayName": "bogaziciAI Community",
      "photoUrl": "",
      "userId": "01551662724788664199"
     },
     "user_tz": -180
    },
    "id": "ei-LSfYNbR9p"
   },
   "outputs": [
    {
     "data": {
      "image/png": "[encoded data removed]",
      "text/plain": [
       "<Figure size 432x288 with 1 Axes>"
      ]
     },
     "metadata": {
      "needs_background": "light"
     },
     "output_type": "display_data"
    }
   ],
   "source": [
    "Pres = WeatherData.Pressure # another one\n",
    "WindSpeed = WeatherData['Wind Speed'].to_numpy()\n",
    "ax = plt.figure().add_subplot(projection='3d')\n",
    "\n",
    "ax.scatter(Temp[0:300],WindSpeed[0:300],Hum[0:300])\n",
    "\n",
    "\n",
    "ax.set_xlabel('Temperature (C)')\n",
    "ax.set_ylabel('WindSpeed')\n",
    "ax.set_zlabel('Humidity')\n",
    "\n",
    "plt.show()"
   ]
  },
  {
   "cell_type": "markdown",
   "metadata": {
    "id": "Ug_FulbebR9p"
   },
   "source": [
    "#  <font color='green'>Real Estate Data, Linear and Nonlinear Regression</font> "
   ]
  },
  {
   "cell_type": "code",
   "execution_count": 12,
   "metadata": {
    "executionInfo": {
     "elapsed": 14,
     "status": "aborted",
     "timestamp": 1624863836146,
     "user": {
      "displayName": "bogaziciAI Community",
      "photoUrl": "",
      "userId": "01551662724788664199"
     },
     "user_tz": -180
    },
    "id": "S87_N0WMbR9p"
   },
   "outputs": [
    {
     "data": {
      "text/plain": [
       "(428, 8)"
      ]
     },
     "execution_count": 12,
     "metadata": {},
     "output_type": "execute_result"
    }
   ],
   "source": [
    "import pandas as pd\n",
    "import matplotlib.pyplot as plt\n",
    "#################  Dosya ismi Realestate.csv, panda dataframe olarak yukleyin\n",
    "HouseData= pd.read_csv('Realestate.csv')  \n",
    "#################\n",
    "HouseData.shape"
   ]
  },
  {
   "cell_type": "code",
   "execution_count": 13,
   "metadata": {
    "executionInfo": {
     "elapsed": 15,
     "status": "aborted",
     "timestamp": 1624863836147,
     "user": {
      "displayName": "bogaziciAI Community",
      "photoUrl": "",
      "userId": "01551662724788664199"
     },
     "user_tz": -180
    },
    "id": "DM7yGUC-bR9p"
   },
   "outputs": [
    {
     "name": "stdout",
     "output_type": "stream",
     "text": [
      "<class 'pandas.core.frame.DataFrame'>\n",
      "RangeIndex: 428 entries, 0 to 427\n",
      "Data columns (total 8 columns):\n",
      " #   Column                Non-Null Count  Dtype  \n",
      "---  ------                --------------  -----  \n",
      " 0   No                    428 non-null    int64  \n",
      " 1   transactiondate       428 non-null    float64\n",
      " 2   houseage              428 non-null    float64\n",
      " 3   distancetostation     428 non-null    float64\n",
      " 4   numberofstores        428 non-null    int64  \n",
      " 5   latitude              428 non-null    float64\n",
      " 6   longitude             428 non-null    float64\n",
      " 7   housepriceofunitarea  428 non-null    float64\n",
      "dtypes: float64(6), int64(2)\n",
      "memory usage: 26.9 KB\n"
     ]
    }
   ],
   "source": [
    "HouseData.info()"
   ]
  },
  {
   "cell_type": "code",
   "execution_count": 14,
   "metadata": {
    "executionInfo": {
     "elapsed": 17,
     "status": "aborted",
     "timestamp": 1624863836149,
     "user": {
      "displayName": "bogaziciAI Community",
      "photoUrl": "",
      "userId": "01551662724788664199"
     },
     "user_tz": -180
    },
    "id": "l3JlxtAUbR9p"
   },
   "outputs": [
    {
     "data": {
      "text/html": [
       "<div>\n",
       "<style scoped>\n",
       "    .dataframe tbody tr th:only-of-type {\n",
       "        vertical-align: middle;\n",
       "    }\n",
       "\n",
       "    .dataframe tbody tr th {\n",
       "        vertical-align: top;\n",
       "    }\n",
       "\n",
       "    .dataframe thead th {\n",
       "        text-align: right;\n",
       "    }\n",
       "</style>\n",
       "<table border=\"1\" class=\"dataframe\">\n",
       "  <thead>\n",
       "    <tr style=\"text-align: right;\">\n",
       "      <th></th>\n",
       "      <th>No</th>\n",
       "      <th>transactiondate</th>\n",
       "      <th>houseage</th>\n",
       "      <th>distancetostation</th>\n",
       "      <th>numberofstores</th>\n",
       "      <th>latitude</th>\n",
       "      <th>longitude</th>\n",
       "      <th>housepriceofunitarea</th>\n",
       "    </tr>\n",
       "  </thead>\n",
       "  <tbody>\n",
       "    <tr>\n",
       "      <th>0</th>\n",
       "      <td>0</td>\n",
       "      <td>2012.1</td>\n",
       "      <td>15.0</td>\n",
       "      <td>88.0</td>\n",
       "      <td>3</td>\n",
       "      <td>1.0</td>\n",
       "      <td>2.0</td>\n",
       "      <td>195.4</td>\n",
       "    </tr>\n",
       "    <tr>\n",
       "      <th>1</th>\n",
       "      <td>0</td>\n",
       "      <td>2012.1</td>\n",
       "      <td>12.0</td>\n",
       "      <td>300.0</td>\n",
       "      <td>3</td>\n",
       "      <td>1.0</td>\n",
       "      <td>2.0</td>\n",
       "      <td>85.7</td>\n",
       "    </tr>\n",
       "    <tr>\n",
       "      <th>2</th>\n",
       "      <td>0</td>\n",
       "      <td>2012.1</td>\n",
       "      <td>14.0</td>\n",
       "      <td>658.0</td>\n",
       "      <td>5</td>\n",
       "      <td>1.0</td>\n",
       "      <td>2.0</td>\n",
       "      <td>44.9</td>\n",
       "    </tr>\n",
       "    <tr>\n",
       "      <th>3</th>\n",
       "      <td>0</td>\n",
       "      <td>2012.1</td>\n",
       "      <td>20.0</td>\n",
       "      <td>204.0</td>\n",
       "      <td>7</td>\n",
       "      <td>1.0</td>\n",
       "      <td>2.0</td>\n",
       "      <td>135.6</td>\n",
       "    </tr>\n",
       "    <tr>\n",
       "      <th>4</th>\n",
       "      <td>0</td>\n",
       "      <td>2012.1</td>\n",
       "      <td>22.0</td>\n",
       "      <td>1020.0</td>\n",
       "      <td>6</td>\n",
       "      <td>1.0</td>\n",
       "      <td>2.0</td>\n",
       "      <td>33.5</td>\n",
       "    </tr>\n",
       "  </tbody>\n",
       "</table>\n",
       "</div>"
      ],
      "text/plain": [
       "   No  transactiondate  houseage  distancetostation  numberofstores  latitude  \\\n",
       "0   0           2012.1      15.0               88.0               3       1.0   \n",
       "1   0           2012.1      12.0              300.0               3       1.0   \n",
       "2   0           2012.1      14.0              658.0               5       1.0   \n",
       "3   0           2012.1      20.0              204.0               7       1.0   \n",
       "4   0           2012.1      22.0             1020.0               6       1.0   \n",
       "\n",
       "   longitude  housepriceofunitarea  \n",
       "0        2.0                 195.4  \n",
       "1        2.0                  85.7  \n",
       "2        2.0                  44.9  \n",
       "3        2.0                 135.6  \n",
       "4        2.0                  33.5  "
      ]
     },
     "execution_count": 14,
     "metadata": {},
     "output_type": "execute_result"
    }
   ],
   "source": [
    "HouseData.head()"
   ]
  },
  {
   "cell_type": "markdown",
   "metadata": {
    "id": "iB0IKqLnbR9q"
   },
   "source": [
    "#  <font color='green'>Linear Regression</font>"
   ]
  },
  {
   "cell_type": "markdown",
   "metadata": {
    "id": "8QZdj1iqbR9q"
   },
   "source": [
    "<font color='red'>Example: run the code in 3 sections in order for ToNthHouse=10 and ToNthHouse=14 and answer 3 questions below </font>"
   ]
  },
  {
   "cell_type": "code",
   "execution_count": 15,
   "metadata": {
    "executionInfo": {
     "elapsed": 16,
     "status": "aborted",
     "timestamp": 1624863836149,
     "user": {
      "displayName": "bogaziciAI Community",
      "photoUrl": "",
      "userId": "01551662724788664199"
     },
     "user_tz": -180
    },
    "id": "gZcfnx57bR9q"
   },
   "outputs": [
    {
     "data": {
      "text/plain": [
       "(0.0, 220.0)"
      ]
     },
     "execution_count": 15,
     "metadata": {},
     "output_type": "execute_result"
    },
    {
     "data": {
      "image/png": "[encoded data removed]",
      "text/plain": [
       "<Figure size 432x288 with 1 Axes>"
      ]
     },
     "metadata": {
      "needs_background": "light"
     },
     "output_type": "display_data"
    }
   ],
   "source": [
    "import pandas as pd\n",
    "\n",
    "Dist=HouseData['distancetostation'].to_numpy()\n",
    "Price=HouseData['housepriceofunitarea'].to_numpy()\n",
    "Age=HouseData['houseage'].to_numpy()\n",
    "\n",
    "######  First Examine House Distance vs Price for the first 10 house values(ToNthHouse) then 14\n",
    "\n",
    "ToNthHouse=14\n",
    "\n",
    "######\n",
    "fig = plt.figure()\n",
    "plt.scatter(Dist[:ToNthHouse],Price[:ToNthHouse])\n",
    "plt.xlabel('Distance to the closest Transportation(m)')\n",
    "plt.ylabel('Unit Price')\n",
    "plt.xlim(0,1800)\n",
    "plt.ylim(0,220)"
   ]
  },
  {
   "cell_type": "code",
   "execution_count": 16,
   "metadata": {
    "executionInfo": {
     "elapsed": 17,
     "status": "aborted",
     "timestamp": 1624863836150,
     "user": {
      "displayName": "bogaziciAI Community",
      "photoUrl": "",
      "userId": "01551662724788664199"
     },
     "user_tz": -180
    },
    "id": "uJqd1H0SbR9q"
   },
   "outputs": [
    {
     "data": {
      "text/plain": [
       "0.1162188783255701"
      ]
     },
     "execution_count": 16,
     "metadata": {},
     "output_type": "execute_result"
    }
   ],
   "source": [
    "from sklearn.linear_model import LinearRegression\n",
    "\n",
    "reg = LinearRegression()\n",
    "reg.fit(Dist[:ToNthHouse].reshape(-1, 1), Price[:ToNthHouse].reshape(-1, 1))\n",
    "reg.score(Dist[:ToNthHouse].reshape(-1, 1), Price[:ToNthHouse].reshape(-1, 1))"
   ]
  },
  {
   "cell_type": "code",
   "execution_count": 17,
   "metadata": {
    "executionInfo": {
     "elapsed": 17,
     "status": "aborted",
     "timestamp": 1624863836150,
     "user": {
      "displayName": "bogaziciAI Community",
      "photoUrl": "",
      "userId": "01551662724788664199"
     },
     "user_tz": -180
    },
    "id": "SqzIKn4-bR9q"
   },
   "outputs": [
    {
     "name": "stdout",
     "output_type": "stream",
     "text": [
      "    No  transactiondate  houseage  distancetostation  numberofstores  \\\n",
      "0    0           2012.1      15.0               88.0               3   \n",
      "1    0           2012.1      12.0              300.0               3   \n",
      "2    0           2012.1      14.0              658.0               5   \n",
      "3    0           2012.1      20.0              204.0               7   \n",
      "4    0           2012.1      22.0             1020.0               6   \n",
      "5    0           2012.1      11.0              600.0               5   \n",
      "6    0           2012.1      14.0              120.0               7   \n",
      "7    0           2012.1      13.0              400.0               3   \n",
      "8    0           2012.1      18.0              220.0               5   \n",
      "9    0           2012.1      17.0              528.0               6   \n",
      "10   0           2012.1       3.0             1250.0               6   \n",
      "11   0           2012.1       2.0             1450.0               2   \n",
      "12   0           2012.1       1.0             1558.0               2   \n",
      "13   0           2012.0       1.0             1600.0               2   \n",
      "\n",
      "    latitude  longitude  housepriceofunitarea  \n",
      "0        1.0        2.0                 195.4  \n",
      "1        1.0        2.0                  85.7  \n",
      "2        1.0        2.0                  44.9  \n",
      "3        1.0        2.0                 135.6  \n",
      "4        1.0        2.0                  33.5  \n",
      "5        1.0        2.0                  55.5  \n",
      "6        1.0        2.0                 185.6  \n",
      "7        1.0        2.0                  65.4  \n",
      "8        1.0        2.0                 125.5  \n",
      "9        1.0        2.0                  54.3  \n",
      "10       1.0        2.0                  58.0  \n",
      "11       1.0        2.0                 100.0  \n",
      "12       1.0        2.0                 110.0  \n",
      "13       1.0        2.0                 120.0  \n"
     ]
    },
    {
     "data": {
      "image/png": "[encoded data removed]",
      "text/plain": [
       "<Figure size 432x288 with 1 Axes>"
      ]
     },
     "metadata": {
      "needs_background": "light"
     },
     "output_type": "display_data"
    }
   ],
   "source": [
    "import numpy as np\n",
    "PredictedPrice=reg.predict(np.arange(0,1800,100).reshape(-1,1))\n",
    "\n",
    "fig = plt.figure()\n",
    "plt.scatter(Dist[:ToNthHouse],Price[:ToNthHouse])\n",
    "plt.xlabel('Distance to the closest Transportation(m)')\n",
    "plt.ylabel('Unit Price')\n",
    "plt.xlim(0,1800)\n",
    "plt.ylim(0,220)\n",
    "plt.plot(np.arange(0,1800,100),PredictedPrice,'r')\n",
    "plt.legend(['Regression Predicted','Real Prices'])\n",
    "print(HouseData[0:14])"
   ]
  },
  {
   "cell_type": "markdown",
   "metadata": {
    "id": "DJ-8Fr04bR9r"
   },
   "source": [
    "<font color='red'>QUESTIONS:</font>\n",
    "\n",
    "1) What is the regression score (reg.score, out[177]) for ToNthHouse= 10 and 14. Write your answers below.\n",
    "\n",
    "For ToNthHouse = 10 : score =  0.752143701166438 ,and for ToNthHouse = 14 : score = 0.1162188783255701\n",
    "\n",
    "2) Outliers in regression are observations that fall far from the “cloud” of points. These points might be especially important. Which ones would be the outlier in ToNthHouse=10 and ToNthHouse=14 cases? \n",
    "\n",
    "For ToNthHouse=10, the outliers are the points far from the line, generally. They are not really far but we may choose these coordinates as outliers, although they almost fit:\n",
    "(1020.0, 33.5), (400.0, 65.4), (300.0, 85.7), (88.0, 195.4), (120.0, 185.6)\n",
    "\n",
    "For ToNthHouse=14, the outliers are the points far from the line, generally, if we assume we should have used linear regression: \n",
    "(88.0, 195.4), (120.0, 185.6), (400.0, 65.4), (528.0, 54.3), (600.0, 55.5), (658.0, 44.9), (1020.0, 33.5), (1600.0, 120.0)\n",
    "\n",
    "But from this small dataset analysis, we may claim that linear regression is not the correct approach.\n",
    "\n",
    "3) Why do you think that regression score differs so much when 4 additional data points are added?\n",
    "Hint: print Panda dataframe information for indices 0-14 (HouseData[0:14]) . \n",
    "\n",
    "Score defines here: the accuracy of the model against our training data. When the new data come into the picture, our model predicts a new average line with a new slope. The new line is far from several points unlike the old line. Therefore our score, that means closeness of data points to the line, has decreased.\n",
    "If the new 4 data is outliers to the first 10 -and supposedly correct- data, our model should discard these. If we used more data, we would find out whether these 4 data were outliers.\n",
    "\n",
    "Do you think that linear regression Y=aX+B is useful in this case?\n",
    "\n",
    "Score being closer to 1.0 means better model. With new data, we can see that score decreased dramatically. \n",
    "Linear model seems to be inappropriate when we look at the plot, also. It seems like a quadratic equation might be more appropriate. However, as I said before, new data points might be outliers. There are parameters remaining to be analyzed.\n",
    "Linear regression is not useful in this case.\n"
   ]
  },
  {
   "cell_type": "markdown",
   "metadata": {
    "executionInfo": {
     "elapsed": 17,
     "status": "aborted",
     "timestamp": 1624863836150,
     "user": {
      "displayName": "bogaziciAI Community",
      "photoUrl": "",
      "userId": "01551662724788664199"
     },
     "user_tz": -180
    },
    "id": "yK5c_VB3bR9r"
   },
   "source": []
  },
  {
   "cell_type": "markdown",
   "metadata": {
    "id": "CYehxx82bR9r"
   },
   "source": [
    "#  <font color='green'>Nonlinear  Nth Degree poly.  Regression, Y=aX^(n)+bX^(n-1)...+gX^1+h</font>"
   ]
  },
  {
   "cell_type": "markdown",
   "metadata": {
    "id": "wlKELnygbR9r"
   },
   "source": [
    "#### <font color='red'>Example: Command  N_poly_degree, change the polynomial nonlinear regression degree and observe how the scores of the predictions change </font>  \n"
   ]
  },
  {
   "cell_type": "code",
   "execution_count": 27,
   "metadata": {
    "executionInfo": {
     "elapsed": 18,
     "status": "aborted",
     "timestamp": 1624863836151,
     "user": {
      "displayName": "bogaziciAI Community",
      "photoUrl": "",
      "userId": "01551662724788664199"
     },
     "user_tz": -180
    },
    "id": "Hg6xvt02bR9s",
    "scrolled": false
   },
   "outputs": [
    {
     "data": {
      "text/plain": [
       "0.9685963206129623"
      ]
     },
     "execution_count": 27,
     "metadata": {},
     "output_type": "execute_result"
    }
   ],
   "source": [
    "from sklearn.preprocessing import PolynomialFeatures\n",
    "ToNthHouse=14\n",
    "N_poly_degree=3\n",
    "\n",
    "####\n",
    "#N_poly_degree=2\n",
    "####\n",
    "poly = PolynomialFeatures(N_poly_degree)\n",
    "Dist_transformed=poly.fit_transform(Dist[:ToNthHouse].reshape(-1,1))\n",
    "\n",
    "model = LinearRegression()\n",
    "\n",
    "model.fit(Dist_transformed,Price[:ToNthHouse].reshape(-1, 1) )\n",
    "model.score(Dist_transformed,Price[:ToNthHouse].reshape(-1, 1))"
   ]
  },
  {
   "cell_type": "code",
   "execution_count": 28,
   "metadata": {
    "executionInfo": {
     "elapsed": 18,
     "status": "aborted",
     "timestamp": 1624863836151,
     "user": {
      "displayName": "bogaziciAI Community",
      "photoUrl": "",
      "userId": "01551662724788664199"
     },
     "user_tz": -180
    },
    "id": "ZHX1kkclbR9s"
   },
   "outputs": [
    {
     "data": {
      "text/plain": [
       "<matplotlib.legend.Legend at 0x21affe75e50>"
      ]
     },
     "execution_count": 28,
     "metadata": {},
     "output_type": "execute_result"
    },
    {
     "data": {
      "image/png": "[encoded data removed]",
      "text/plain": [
       "<Figure size 432x288 with 1 Axes>"
      ]
     },
     "metadata": {
      "needs_background": "light"
     },
     "output_type": "display_data"
    }
   ],
   "source": [
    "Dist_Prediction_transformed=poly.fit_transform(np.arange(0,1800,100).reshape(-1,1))\n",
    "PredictedPrice=model.predict(Dist_Prediction_transformed)\n",
    "\n",
    "fig = plt.figure()\n",
    "plt.scatter(Dist[:ToNthHouse],Price[:ToNthHouse])\n",
    "plt.xlabel('Distance to the closest Transportation(m)')\n",
    "plt.ylabel('Unit Price')\n",
    "\n",
    "plt.plot(np.arange(0,1800,100),PredictedPrice,'r')\n",
    "plt.legend(['Regression Predicted','Real Prices'])"
   ]
  },
  {
   "cell_type": "markdown",
   "metadata": {
    "id": "Igip6MxvbR9s"
   },
   "source": [
    "<font color='red'>Question:</font> When we switched to nonlinear regression, the prediction became better for the 14 data points, Do you think that we adopted a correct approach, is the only variable that determines the House Unit Price their distance to the closest transportation or are there any other variables that could have an influence on the House Unit Price? Write your answer here.\n",
    "\n",
    "There are remaining parameters that might affect the House Unit Price. If we conduct an experiment with the given data of size 14, or more, with all the parameters, we might see that another parameters have more effect on the \"price\" than that of \"distance\". If we assume that Distance is enough, than nonlinear regression is the key, considering overfit when increasing the degree of poly."
   ]
  },
  {
   "cell_type": "markdown",
   "metadata": {
    "id": "qc9rP-tVbR9s"
   },
   "source": [
    "# <font color='red'>THE FINAL EXERCISE: </font>  \n",
    "When you look at the dataframe called HouseData, data that have \"No=0\" are fabricated by us to get you familiar with the libraries and their functions to produce simple linear and nonlinear regression models. Now, You can continue with the real data from the city Pompeii. Drop the first 14 fabricated rows from the data frame. \n",
    "\n"
   ]
  },
  {
   "cell_type": "code",
   "execution_count": 29,
   "metadata": {
    "executionInfo": {
     "elapsed": 19,
     "status": "aborted",
     "timestamp": 1624863836152,
     "user": {
      "displayName": "bogaziciAI Community",
      "photoUrl": "",
      "userId": "01551662724788664199"
     },
     "user_tz": -180
    },
    "id": "S5ywitN1bR9s"
   },
   "outputs": [
    {
     "data": {
      "text/html": [
       "<div>\n",
       "<style scoped>\n",
       "    .dataframe tbody tr th:only-of-type {\n",
       "        vertical-align: middle;\n",
       "    }\n",
       "\n",
       "    .dataframe tbody tr th {\n",
       "        vertical-align: top;\n",
       "    }\n",
       "\n",
       "    .dataframe thead th {\n",
       "        text-align: right;\n",
       "    }\n",
       "</style>\n",
       "<table border=\"1\" class=\"dataframe\">\n",
       "  <thead>\n",
       "    <tr style=\"text-align: right;\">\n",
       "      <th></th>\n",
       "      <th>No</th>\n",
       "      <th>transactiondate</th>\n",
       "      <th>houseage</th>\n",
       "      <th>distancetostation</th>\n",
       "      <th>numberofstores</th>\n",
       "      <th>latitude</th>\n",
       "      <th>longitude</th>\n",
       "      <th>housepriceofunitarea</th>\n",
       "    </tr>\n",
       "  </thead>\n",
       "  <tbody>\n",
       "    <tr>\n",
       "      <th>14</th>\n",
       "      <td>1</td>\n",
       "      <td>2012.917</td>\n",
       "      <td>32.0</td>\n",
       "      <td>84.87882</td>\n",
       "      <td>10</td>\n",
       "      <td>24.98298</td>\n",
       "      <td>121.54024</td>\n",
       "      <td>37.9</td>\n",
       "    </tr>\n",
       "    <tr>\n",
       "      <th>15</th>\n",
       "      <td>2</td>\n",
       "      <td>2012.917</td>\n",
       "      <td>19.5</td>\n",
       "      <td>306.59470</td>\n",
       "      <td>9</td>\n",
       "      <td>24.98034</td>\n",
       "      <td>121.53951</td>\n",
       "      <td>42.2</td>\n",
       "    </tr>\n",
       "    <tr>\n",
       "      <th>16</th>\n",
       "      <td>3</td>\n",
       "      <td>2013.583</td>\n",
       "      <td>13.3</td>\n",
       "      <td>561.98450</td>\n",
       "      <td>5</td>\n",
       "      <td>24.98746</td>\n",
       "      <td>121.54391</td>\n",
       "      <td>47.3</td>\n",
       "    </tr>\n",
       "    <tr>\n",
       "      <th>17</th>\n",
       "      <td>4</td>\n",
       "      <td>2013.500</td>\n",
       "      <td>13.3</td>\n",
       "      <td>561.98450</td>\n",
       "      <td>5</td>\n",
       "      <td>24.98746</td>\n",
       "      <td>121.54391</td>\n",
       "      <td>54.8</td>\n",
       "    </tr>\n",
       "    <tr>\n",
       "      <th>18</th>\n",
       "      <td>5</td>\n",
       "      <td>2012.833</td>\n",
       "      <td>5.0</td>\n",
       "      <td>390.56840</td>\n",
       "      <td>5</td>\n",
       "      <td>24.97937</td>\n",
       "      <td>121.54245</td>\n",
       "      <td>43.1</td>\n",
       "    </tr>\n",
       "  </tbody>\n",
       "</table>\n",
       "</div>"
      ],
      "text/plain": [
       "    No  transactiondate  houseage  distancetostation  numberofstores  \\\n",
       "14   1         2012.917      32.0           84.87882              10   \n",
       "15   2         2012.917      19.5          306.59470               9   \n",
       "16   3         2013.583      13.3          561.98450               5   \n",
       "17   4         2013.500      13.3          561.98450               5   \n",
       "18   5         2012.833       5.0          390.56840               5   \n",
       "\n",
       "    latitude  longitude  housepriceofunitarea  \n",
       "14  24.98298  121.54024                  37.9  \n",
       "15  24.98034  121.53951                  42.2  \n",
       "16  24.98746  121.54391                  47.3  \n",
       "17  24.98746  121.54391                  54.8  \n",
       "18  24.97937  121.54245                  43.1  "
      ]
     },
     "execution_count": 29,
     "metadata": {},
     "output_type": "execute_result"
    }
   ],
   "source": [
    "HouseData=HouseData.drop(np.arange(0,14))\n",
    "HouseData.head()"
   ]
  },
  {
   "cell_type": "markdown",
   "metadata": {
    "id": "Jwpshj2lbR9t"
   },
   "source": [
    "\n",
    "This is <font color='red'>the final task.</font> You are expected to create a similar linear or nonlinear regression analysis on the real data. <font color='green'>You can choose how complicated you would like to have your investigation. Any analysis will be enough for you to fullfil this task, you do not have to present a very good correlation.</font> After you are done, Please email us this .ipynb file updated by you, then we will welcome you to Summer Machine Learning + Deep Learning study group powered by Bogazici Uni. student and Alumni volunteers. \n",
    "\n",
    "\n",
    "Some ideas you can work on:\n",
    "\n",
    "1) The simplest analysis would be to show the linear or nonlinear relation between the HouseAge and Unit Price.\n",
    "\n",
    "2) If you like a more challenging analysis to exercise your coding skills, You can use two or more variables such as HouseAge and Distancetostation to run a linear and nonlinear regression to predict house price of unit area.\n",
    "\n",
    "3) If you like a deeper analysis, you can investigate the correlation between House Unit Price distance to station when HouseAge<10 and numberofstores<3. You can also learn about correlation matrix, Download seaborn library and run the below code. According the correlation information you are getting from the heatmap, create your regression analysis. \n",
    "\n"
   ]
  },
  {
   "cell_type": "markdown",
   "metadata": {
    "id": "Wh2QOfSdbR9t"
   },
   "source": [
    "# <font color='green'>Extra Material for option 3 </font>\n",
    "\n",
    "Correlation Matrix: It measures the relationship between two variables. The measure is best used in variables that demonstrate a linear relationship between each other. \n",
    "\n",
    "-1 indicates a perfectly negative linear correlation between two variables\n",
    "\n",
    "0 indicates no linear correlation between two variables\n",
    "\n",
    "1 indicates a perfectly positive linear correlation between two variables\n",
    "\n",
    "<font color='green'>Code For Option 3 </font> "
   ]
  },
  {
   "cell_type": "code",
   "execution_count": 47,
   "metadata": {},
   "outputs": [
    {
     "data": {
      "text/plain": [
       "<AxesSubplot:>"
      ]
     },
     "execution_count": 47,
     "metadata": {},
     "output_type": "execute_result"
    },
    {
     "data": {
      "image/png": "[encoded data removed]",
      "text/plain": [
       "<Figure size 432x288 with 2 Axes>"
      ]
     },
     "metadata": {
      "needs_background": "light"
     },
     "output_type": "display_data"
    }
   ],
   "source": [
    "import  seaborn as sns\n",
    "\n",
    "sns.heatmap(HouseData.corr(),annot=True)"
   ]
  },
  {
   "cell_type": "code",
   "execution_count": 59,
   "metadata": {},
   "outputs": [
    {
     "data": {
      "text/plain": [
       "43.8"
      ]
     },
     "execution_count": 59,
     "metadata": {},
     "output_type": "execute_result"
    }
   ],
   "source": [
    "Age.max() # max age is 43.8. Go accordingly."
   ]
  },
  {
   "cell_type": "code",
   "execution_count": 81,
   "metadata": {
    "executionInfo": {
     "elapsed": 21,
     "status": "aborted",
     "timestamp": 1624863836155,
     "user": {
      "displayName": "bogaziciAI Community",
      "photoUrl": "",
      "userId": "01551662724788664199"
     },
     "user_tz": -180
    },
    "id": "suMBL-mobR9t"
   },
   "outputs": [
    {
     "data": {
      "text/plain": [
       "0.20828259013152473"
      ]
     },
     "execution_count": 81,
     "metadata": {},
     "output_type": "execute_result"
    }
   ],
   "source": [
    "## Start your Code from there and create as many as cell you need to make your code easy to follow ## \n",
    "# Simplest analysis due to business. Will try 2nd and 3rd options tomorrow or on saturday.\n",
    "## As seen above houseage has a little linear correlation with price.\n",
    "\n",
    "ToNthHouse=414 # 414 data points max.\n",
    "N_poly_degree=4 # When increased to 5+ score becomes 0.21+. There is low linear correlation.\n",
    "\n",
    "Dist=HouseData['distancetostation'].to_numpy()\n",
    "Price=HouseData['housepriceofunitarea'].to_numpy()\n",
    "Age=HouseData['houseage'].to_numpy()\n",
    "\n",
    "poly = PolynomialFeatures(N_poly_degree)\n",
    "Age_transformed=poly.fit_transform(Age[:ToNthHouse].reshape(-1,1))\n",
    "\n",
    "model = LinearRegression()\n",
    "\n",
    "model.fit(Age_transformed,Price[:ToNthHouse].reshape(-1, 1) )\n",
    "model.score(Age_transformed,Price[:ToNthHouse].reshape(-1, 1))"
   ]
  },
  {
   "cell_type": "code",
   "execution_count": 82,
   "metadata": {},
   "outputs": [
    {
     "data": {
      "text/plain": [
       "<matplotlib.legend.Legend at 0x21afdc66c40>"
      ]
     },
     "execution_count": 82,
     "metadata": {},
     "output_type": "execute_result"
    },
    {
     "data": {
      "image/png": "[encoded data removed]",
      "text/plain": [
       "<Figure size 432x288 with 1 Axes>"
      ]
     },
     "metadata": {
      "needs_background": "light"
     },
     "output_type": "display_data"
    }
   ],
   "source": [
    "Age_Prediction_transformed=poly.fit_transform(np.arange(0,44,1).reshape(-1,1))\n",
    "PredictedPrice=model.predict(Age_Prediction_transformed)\n",
    "\n",
    "fig = plt.figure()\n",
    "plt.scatter(Age[:ToNthHouse],Price[:ToNthHouse])\n",
    "plt.xlabel('House Age')\n",
    "plt.ylabel('Unit Price')\n",
    "\n",
    "plt.plot(np.arange(0,44,1),PredictedPrice,'r')\n",
    "plt.legend(['Regression Predicted','Real Prices']) # plot seems like overfitted when degree is 5+. We may use 4. "
   ]
  },
  {
   "cell_type": "markdown",
   "metadata": {
    "id": "wi1FaLr4bR9t"
   },
   "source": [
    "# <font color='red'>Feedback</font>\n",
    "\n",
    "We appreciate feedbacks from you to make the exercise better for future generations. \n",
    "\n",
    "1) What do you find most useful in this document?\n",
    "\n",
    "All\n",
    "\n",
    "\n",
    "2) Is there any part that was not clear to you?\n",
    "\n",
    "Multiple regression (left to user I guess)\n",
    "\n",
    "3) How do you rank your coding and regression skills before the task and how difficult was to follow this document?\n",
    "\n",
    "5/10 and normal\n",
    "\n",
    "4) Any other suggestions to make it more fun?\n",
    "\n",
    "More detail will make it more fun as it is fun already."
   ]
  }
 ],
 "metadata": {
  "colab": {
   "collapsed_sections": [],
   "name": "LinearRegression.ipynb",
   "provenance": []
  },
  "kernelspec": {
   "display_name": "Python 3",
   "language": "python",
   "name": "python3"
  },
  "language_info": {
   "codemirror_mode": {
    "name": "ipython",
    "version": 3
   },
   "file_extension": ".py",
   "mimetype": "text/x-python",
   "name": "python",
   "nbconvert_exporter": "python",
   "pygments_lexer": "ipython3",
   "version": "3.8.10"
  }
 },
 "nbformat": 4,
 "nbformat_minor": 1
}
